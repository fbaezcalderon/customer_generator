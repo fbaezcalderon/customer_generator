{
 "cells": [
  {
   "cell_type": "code",
   "execution_count": 1,
   "metadata": {},
   "outputs": [],
   "source": [
    "import pandas as pd\n",
    "import random\n",
    "from datetime import datetime"
   ]
  },
  {
   "cell_type": "code",
   "execution_count": 2,
   "metadata": {},
   "outputs": [],
   "source": [
    "last_names_df = pd.read_csv('last_names.txt')\n",
    "male_names =  pd.read_csv('male_names.txt')\n",
    "female_names =  pd.read_csv('female_names.txt')\n",
    "domains_df  =  pd.read_csv('domain.txt')\n",
    "area_code_df =  pd.read_csv('area_code.csv',delimiter='\\t')"
   ]
  },
  {
   "cell_type": "code",
   "execution_count": 3,
   "metadata": {},
   "outputs": [],
   "source": [
    "last_names_df.last_name=last_names_df.last_name.str.capitalize()"
   ]
  },
  {
   "cell_type": "code",
   "execution_count": 4,
   "metadata": {},
   "outputs": [
    {
     "name": "stdout",
     "output_type": "stream",
     "text": [
      "CX_ORACLE libraries not available. Please install.\n"
     ]
    }
   ],
   "source": [
    "from DataBaseConnector.dbconnector import DataBaseConnector\n",
    "\n",
    "conn = DataBaseConnector('ODOO')"
   ]
  },
  {
   "cell_type": "code",
   "execution_count": 5,
   "metadata": {},
   "outputs": [],
   "source": [
    "sql = '''insert into res_partner (name,\n",
    "                            email,\n",
    "                            phone,\n",
    "                            active,\n",
    "                            is_company,\n",
    "                            partner_share,\n",
    "                            email_normalized,\n",
    "                            phone_sanitized,\n",
    "                            create_date,\n",
    "                            write_date)\n",
    "                            values(\n",
    "                            %(name)s,\n",
    "                            %(email)s,\n",
    "                            \n",
    "                            %(phone)s,\n",
    "                            %(active)s,\n",
    "                            %(is_company)s,\n",
    "                            %(partner_share)s,\n",
    "                            %(email_normalized)s,\n",
    "                            %(phone_sanitized)s,\n",
    "                            %(create_date)s,\n",
    "                            %(write_date)s\n",
    "                            )'''"
   ]
  },
  {
   "cell_type": "code",
   "execution_count": 77,
   "metadata": {},
   "outputs": [],
   "source": [
    "for i in range(random.randrange(4,10)):\n",
    "        name = male_names.loc[random.randrange(0,len(male_names.index)),['name']].values[0]\n",
    "        last_name = last_names_df.loc[random.randrange(0,len(last_names_df.index)),['last_name']].values[0]\n",
    "        domain =  domains_df.loc[random.randrange(0,len(domains_df.index)),['domain']].values[0]\n",
    "        e_mail = name+'.'+last_name+'@'+domain\n",
    "        code = area_code_df.loc[random.randrange(0,len(area_code_df.index)),['code']].values[0]\n",
    "        phone = '('+str(code)+')'+str(random.randrange(970,980))+'-'+str(random.randrange(4387,7893))\n",
    "        params={'name':name,\n",
    "                'email':e_mail if random.random()>0.36 else '',\n",
    "                'phone': phone if random.random() > 0.26 else '',\n",
    "                'is_company':False,\n",
    "                'partner_share':False,\n",
    "                'email_normalized':  e_mail if random.random()>0.7 else '',\n",
    "                'phone_sanitized':phone,\n",
    "                'active':'True',\n",
    "                'create_date':datetime.now(),\n",
    "                'write_date':datetime.now()\n",
    "                }\n",
    "        conn.execute_insert(sqlquery=sql,sqlparams=params)\n",
    "        params"
   ]
  },
  {
   "cell_type": "code",
   "execution_count": 98,
   "metadata": {},
   "outputs": [
    {
     "data": {
      "text/plain": [
       "'hola'"
      ]
     },
     "execution_count": 98,
     "metadata": {},
     "output_type": "execute_result"
    }
   ],
   "source": [
    "for i in range(20) :\n",
    "    numbero = random.random()\n",
    "    'hola '+str(numero) if numero > 0.7 else 'No '\n"
   ]
  },
  {
   "cell_type": "code",
   "execution_count": 13,
   "metadata": {},
   "outputs": [],
   "source": [
    "contact_df  =  conn.get_dataframe_from_postgres('Select  name, street, street2, zip, city, email, phone, mobile, company_name,is_company  from res_partner',None)"
   ]
  },
  {
   "cell_type": "code",
   "execution_count": 11,
   "metadata": {},
   "outputs": [
    {
     "data": {
      "text/plain": [
       "Index(['id', 'company_id', 'create_date', 'name', 'title', 'parent_id',\n",
       "       'user_id', 'state_id', 'country_id', 'industry_id', 'color',\n",
       "       'commercial_partner_id', 'create_uid', 'write_uid', 'display_name',\n",
       "       'ref', 'lang', 'tz', 'vat', 'company_registry', 'website', 'function',\n",
       "       'type', 'street', 'street2', 'zip', 'city', 'email', 'phone', 'mobile',\n",
       "       'commercial_company_name', 'company_name', 'date', 'comment',\n",
       "       'partner_latitude', 'partner_longitude', 'active', 'employee',\n",
       "       'is_company', 'partner_share', 'write_date',\n",
       "       'message_main_attachment_id', 'message_bounce', 'email_normalized',\n",
       "       'signup_type', 'signup_expiration', 'signup_token', 'team_id',\n",
       "       'partner_gid', 'additional_info', 'phone_sanitized', 'supplier_rank',\n",
       "       'customer_rank', 'invoice_warn', 'invoice_warn_msg', 'debit_limit',\n",
       "       'last_time_entries_checked', 'sale_warn', 'sale_warn_msg',\n",
       "       'calendar_last_notif_ack', 'picking_warn', 'picking_warn_msg'],\n",
       "      dtype='object')"
      ]
     },
     "execution_count": 11,
     "metadata": {},
     "output_type": "execute_result"
    }
   ],
   "source": [
    "contact_df.columns"
   ]
  },
  {
   "cell_type": "code",
   "execution_count": 3,
   "metadata": {},
   "outputs": [
    {
     "ename": "NameError",
     "evalue": "name 'contact_df' is not defined",
     "output_type": "error",
     "traceback": [
      "\u001b[1;31m---------------------------------------------------------------------------\u001b[0m",
      "\u001b[1;31mNameError\u001b[0m                                 Traceback (most recent call last)",
      "Cell \u001b[1;32mIn[3], line 1\u001b[0m\n\u001b[1;32m----> 1\u001b[0m \u001b[43mcontact_df\u001b[49m\u001b[38;5;241m.\u001b[39mhead()\n\u001b[0;32m      2\u001b[0m contact_df\n",
      "\u001b[1;31mNameError\u001b[0m: name 'contact_df' is not defined"
     ]
    }
   ],
   "source": [
    "contact_df.head()\n",
    "contact_df"
   ]
  },
  {
   "cell_type": "code",
   "execution_count": 2,
   "metadata": {},
   "outputs": [
    {
     "name": "stdout",
     "output_type": "stream",
     "text": [
      "2024-10-29 01:15:51.810337\n",
      "2024-10-29 01:15:56.811511\n",
      "2024-10-29 01:16:01.812330\n",
      "2024-10-29 01:16:06.812534\n",
      "2024-10-29 01:16:11.813441\n",
      "2024-10-29 01:16:16.813879\n",
      "2024-10-29 01:16:21.814083\n",
      "2024-10-29 01:16:26.814084\n",
      "2024-10-29 01:16:31.814200\n",
      "2024-10-29 01:16:36.814796\n",
      "2024-10-29 01:16:41.815595\n",
      "2024-10-29 01:16:46.816210\n",
      "2024-10-29 01:16:51.816998\n",
      "2024-10-29 01:16:56.817157\n",
      "2024-10-29 01:17:01.817281\n",
      "2024-10-29 01:17:06.817711\n",
      "2024-10-29 01:17:11.818024\n",
      "2024-10-29 01:17:16.818784\n",
      "2024-10-29 01:17:21.819680\n",
      "2024-10-29 01:17:26.819931\n"
     ]
    }
   ],
   "source": [
    "from datetime import datetime\n",
    "import time\n",
    "for i in range (20):\n",
    "    print(datetime.now())\n",
    "    time.sleep(5)\n",
    "    contact_df.to_"
   ]
  }
 ],
 "metadata": {
  "kernelspec": {
   "display_name": "uxs24",
   "language": "python",
   "name": "python3"
  },
  "language_info": {
   "codemirror_mode": {
    "name": "ipython",
    "version": 3
   },
   "file_extension": ".py",
   "mimetype": "text/x-python",
   "name": "python",
   "nbconvert_exporter": "python",
   "pygments_lexer": "ipython3",
   "version": "3.9.19"
  }
 },
 "nbformat": 4,
 "nbformat_minor": 2
}
